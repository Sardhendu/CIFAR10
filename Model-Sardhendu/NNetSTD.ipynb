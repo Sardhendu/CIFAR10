{
 "cells": [
  {
   "cell_type": "code",
   "execution_count": 1,
   "metadata": {
    "collapsed": false
   },
   "outputs": [],
   "source": [
    "# import Packages:\n",
    "from __future__ import print_function\n",
    "import numpy as np\n",
    "import tensorflow as tf\n",
    "from six.moves import cPickle as pickle\n",
    "from six.moves import range\n",
    "import os, sys\n",
    "\n",
    "# Get the current working directory\n",
    "cwd = os.getcwd()\n",
    "mydir = os.path.abspath(os.path.join(cwd, \"..\"))\n",
    "sys.path.append(mydir)\n",
    "from DataGenerator import genTrainValidFolds"
   ]
  },
  {
   "cell_type": "code",
   "execution_count": 2,
   "metadata": {
    "collapsed": false
   },
   "outputs": [],
   "source": [
    "STDbatch_dir = \"/Users/sam/All-Program/App-DataSet/Kaggle-Challenges/CIFAR-10/Classification-1/STD/batchData/\"\n",
    "EDGbatch_dir = \"/Users/sam/All-Program/App-DataSet/Kaggle-Challenges/CIFAR-10/Classification-1/EDG/batchData/\"\n",
    "HOGp1batch_dir = \"/Users/sam/All-Program/App-DataSet/Kaggle-Challenges/CIFAR-10/Classification-1/HOGp1/batchData/\"\n",
    "\n"
   ]
  },
  {
   "cell_type": "code",
   "execution_count": 20,
   "metadata": {
    "collapsed": true
   },
   "outputs": [],
   "source": [
    "# def toOneHotVector():\n",
    "    \n",
    "\n",
    "def reset_graph():  # Reset the graph\n",
    "    if 'sess' in globals() and sess:\n",
    "        sess.close()\n",
    "    tf.reset_default_graph()\n",
    "    \n",
    "def reshape_data(dataset, labels, featureSize, numLabels, sample_size=None):\n",
    "    if sample_size:\n",
    "        dataset = dataset[:sample_size].reshape(sample_size, featureSize) # To reshape the  \n",
    "        # Map 0 to [1.0, 0.0, 0.0 ...], 1 to [0.0, 1.0, 0.0 ...]\n",
    "        labels = (np.arange(numLabels) == labels[:,None]).astype(np.float32)\n",
    "    else:\n",
    "        dataset = dataset.reshape(len(dataset), featureSize) # To reshape the  \n",
    "        # Map 0 to [1.0, 0.0, 0.0 ...], 1 to [0.0, 1.0, 0.0 ...]\n",
    "        labels = (np.arange(numLabels) == labels[:,None]).astype(np.float32)\n",
    "    return dataset, labels"
   ]
  },
  {
   "cell_type": "code",
   "execution_count": 51,
   "metadata": {
    "collapsed": false
   },
   "outputs": [],
   "source": [
    "class BuildNeuralNet():\n",
    "    \n",
    "    def __init__(self):\n",
    "        \n",
    "        seed = 2316\n",
    "        self.featureSize = 162\n",
    "        self.numHidden1 = 1000\n",
    "        self.numHidden2 = 1000\n",
    "        self.numHidden3 = 1000\n",
    "        self.numLabels = 2\n",
    "        self.alpha = 0.03\n",
    "        self.momentum = 0.9\n",
    "        \n",
    "        self.weights = {\n",
    "            \"inp_to_hid1_wght\": tf.Variable(tf.random_normal([self.featureSize, self.numHidden1], seed=seed)),\n",
    "            \"hid1_to_hid2_wght\" : tf.Variable(tf.random_normal([self.numHidden1, self.numHidden2], seed=seed)),\n",
    "            \"hid2_to_hid3_wght\": tf.Variable(tf.random_normal([self.numHidden2, self.numHidden3], seed=seed)),\n",
    "            \"hid3_to_out_wght\": tf.Variable(tf.random_normal([self.numHidden3, self.numLabels], seed=seed))\n",
    "        }\n",
    "        \n",
    "        self.biases = {\n",
    "            \"hid1_bias\": tf.Variable(tf.random_normal([self.numHidden1], seed=seed)),\n",
    "            \"hid2_bias\": tf.Variable(tf.random_normal([self.numHidden2], seed=seed)),\n",
    "            \"hid3_bias\": tf.Variable(tf.random_normal([self.numHidden3], seed=seed)),\n",
    "            \"out_bias\": tf.Variable(tf.random_normal([self.numLabels], seed=seed))\n",
    "        }\n",
    "        \n",
    "        \n",
    "    def nNet(self):\n",
    "        trainData = tf.placeholder(tf.float32, [None, self.featureSize])\n",
    "        trainLabels = tf.placeholder(tf.float32, [None, self.numLabels])\n",
    "\n",
    "        # 1st Hidden Layer State\n",
    "        inp_to_hid1 = tf.matmul(trainData, self.weights['inp_to_hid1_wght']) + self.biases['hid1_bias']\n",
    "        hid1State = tf.sigmoid(inp_to_hid1)\n",
    "        \n",
    "        # 2nd Hidden Layer State\n",
    "        hid1_to_hid2 = tf.matmul(hid1State, self.weights['hid1_to_hid2_wght']) + self.biases['hid2_bias']\n",
    "        hid2State = tf.sigmoid(hid1_to_hid2)\n",
    "        \n",
    "        # 3nd Hidden Layer State\n",
    "        hid2_to_hid3 = tf.matmul(hid2State, self.weights['hid2_to_hid3_wght']) + self.biases['hid3_bias']\n",
    "        hid3State = tf.sigmoid(hid2_to_hid3)\n",
    "        \n",
    "        # Output Layer State\n",
    "        hid3_to_out = tf.matmul(hid3State, self.weights['hid3_to_out_wght']) + self.biases['out_bias']\n",
    "        outState = tf.nn.softmax(hid3_to_out)\n",
    "        \n",
    "        # Loss Function and Optimization\n",
    "        lossCE = tf.reduce_mean(tf.nn.softmax_cross_entropy_with_logits(logits=hid3_to_out, labels=trainLabels))\n",
    "#         optimizer = tf.train.AdamOptimizer(learning_rate=self.alpha).minimize(lossCE)\n",
    "        optimizer = tf.train.MomentumOptimizer(self.alpha, \n",
    "                                            self.momentum, \n",
    "                                            use_locking=False, \n",
    "                                            name='Momentum', \n",
    "                                            use_nesterov=True).minimize(lossCE)\n",
    "        \n",
    "        # Evaluate model\n",
    "        correct_pred = tf.equal(tf.argmax(outState, 1), tf.argmax(trainLabels, 1))\n",
    "        accuracy = tf.reduce_mean(tf.cast(correct_pred, tf.float32))\n",
    "        \n",
    "        return dict(\n",
    "            trainData = trainData, \n",
    "            trainLabels = trainLabels,\n",
    "            optimizer = optimizer,\n",
    "            lossCE = lossCE,\n",
    "            accuracy = accuracy\n",
    "        )\n",
    "        "
   ]
  },
  {
   "cell_type": "code",
   "execution_count": 52,
   "metadata": {
    "collapsed": false,
    "scrolled": false
   },
   "outputs": [
    {
     "name": "stdout",
     "output_type": "stream",
     "text": [
      "{'trainLabels': <tf.Tensor 'Placeholder_1:0' shape=(?, 2) dtype=float32>, 'accuracy': <tf.Tensor 'Mean_1:0' shape=() dtype=float32>, 'lossCE': <tf.Tensor 'Mean:0' shape=() dtype=float32>, 'trainData': <tf.Tensor 'Placeholder:0' shape=(?, 162) dtype=float32>, 'optimizer': <tensorflow.python.framework.ops.Operation object at 0x11b3c3d68>}\n",
      "Running i is : 0\n",
      "Validation Data and Labels shape:  (1000, 162) (1000, 2)\n",
      "Training Data and Labels shape:  (9000, 162) (9000, 2)\n",
      "The Label Dictionary is given as:  {0: 'trainDataAirplane.pickle', 1: 'trainDataCat.pickle'}\n",
      "Iter 0, Minibatch Loss= 8.119655, Training Accuracy= 0.50700\n",
      "Iter 1, Minibatch Loss= 19.884375, Training Accuracy= 0.49989\n",
      "Iter 2, Minibatch Loss= 2.548061, Training Accuracy= 0.61111\n",
      "Iter 3, Minibatch Loss= 4.615665, Training Accuracy= 0.59778\n",
      "Iter 4, Minibatch Loss= 7.296151, Training Accuracy= 0.52400\n",
      "Iter 5, Minibatch Loss= 7.536325, Training Accuracy= 0.56444\n",
      "Iter 6, Minibatch Loss= 2.648139, Training Accuracy= 0.71922\n",
      "Iter 7, Minibatch Loss= 2.046159, Training Accuracy= 0.78400\n",
      "Iter 8, Minibatch Loss= 1.786895, Training Accuracy= 0.79189\n",
      "Iter 9, Minibatch Loss= 1.656807, Training Accuracy= 0.80989\n",
      "Iter 10, Minibatch Loss= 1.618172, Training Accuracy= 0.81222\n",
      "Iter 11, Minibatch Loss= 1.571404, Training Accuracy= 0.81711\n",
      "Iter 12, Minibatch Loss= 1.519672, Training Accuracy= 0.82089\n",
      "Iter 13, Minibatch Loss= 1.465017, Training Accuracy= 0.82456\n",
      "Iter 14, Minibatch Loss= 1.408596, Training Accuracy= 0.82822\n",
      "Iter 15, Minibatch Loss= 1.351167, Training Accuracy= 0.82922\n",
      "Iter 16, Minibatch Loss= 1.293398, Training Accuracy= 0.83267\n",
      "Iter 17, Minibatch Loss= 1.236399, Training Accuracy= 0.83278\n",
      "Iter 18, Minibatch Loss= 1.181652, Training Accuracy= 0.83322\n",
      "Iter 19, Minibatch Loss= 1.130486, Training Accuracy= 0.83444\n",
      "Iter 20, Minibatch Loss= 1.083940, Training Accuracy= 0.83444\n",
      "Iter 21, Minibatch Loss= 1.042423, Training Accuracy= 0.83478\n",
      "Iter 22, Minibatch Loss= 1.005667, Training Accuracy= 0.83311\n",
      "Iter 23, Minibatch Loss= 0.972988, Training Accuracy= 0.83289\n",
      "Iter 24, Minibatch Loss= 0.943800, Training Accuracy= 0.83211\n",
      "Iter 25, Minibatch Loss= 0.917721, Training Accuracy= 0.82944\n",
      "Iter 26, Minibatch Loss= 0.894337, Training Accuracy= 0.82678\n",
      "Iter 27, Minibatch Loss= 0.873141, Training Accuracy= 0.82589\n",
      "Iter 28, Minibatch Loss= 0.853520, Training Accuracy= 0.82478\n",
      "Iter 29, Minibatch Loss= 0.834871, Training Accuracy= 0.82400\n"
     ]
    }
   ],
   "source": [
    "def accuracy(predictions, labels):\n",
    "    return (100.0 * np.sum(np.argmax(predictions, 1) == np.argmax(labels, 1))\n",
    "          / predictions.shape[0])\n",
    "\n",
    "\n",
    "epochs = 30\n",
    "def train(graphDict):\n",
    "    print (graphDict)\n",
    "    \n",
    "    with tf.Session() as sess:\n",
    "        sess.run(tf.initialize_all_variables())\n",
    "        \n",
    "        for foldNUM, (trainDataIN, trainLabelsIN, validDataIN, validLabelsIN, labelDict) in enumerate(genTrainValidFolds(HOGp1batch_dir, oneHot=True)):\n",
    "            print ('Validation Data and Labels shape: ', validDataIN.shape, validLabelsIN.shape)\n",
    "            print ('Training Data and Labels shape: ', trainDataIN.shape, trainLabelsIN.shape)\n",
    "            print ('The Label Dictionary is given as: ', labelDict)\n",
    "\n",
    "#             batchData, batchLabels = reshape_data(trainDataIN, trainLabelsIN, featureSize=162, numLabels=2)\n",
    "            for epoch in range(epochs): \n",
    "                feed_dict = {graphDict['trainData']: trainDataIN,\n",
    "                             graphDict['trainLabels']: trainLabelsIN\n",
    "                        }\n",
    "\n",
    "                _, loss, acc = sess.run([graphDict['optimizer'], graphDict['lossCE'], graphDict['accuracy']], feed_dict=feed_dict)\n",
    "                print (\"Iter \" + str(epoch) + \", Minibatch Loss= \" + \"{:.6f}\".format(loss) + \", Training Accuracy= \" + \"{:.5f}\".format(acc))\n",
    "            break\n",
    "#             epoch += 1\n",
    "#         print (\"Optimization Finished!\")\n",
    "#     obj_SVM = Models()\n",
    "#     batchEvalDict[foldNUM] = obj_SVM.classify(trainData, trainLabels, validData)\n",
    "\n",
    "reset_graph()\n",
    "graphDict = BuildNeuralNet().nNet()\n",
    "train(graphDict)"
   ]
  },
  {
   "cell_type": "code",
   "execution_count": null,
   "metadata": {
    "collapsed": true
   },
   "outputs": [],
   "source": []
  }
 ],
 "metadata": {
  "anaconda-cloud": {},
  "kernelspec": {
   "display_name": "Python [Root]",
   "language": "python",
   "name": "Python [Root]"
  },
  "language_info": {
   "codemirror_mode": {
    "name": "ipython",
    "version": 3
   },
   "file_extension": ".py",
   "mimetype": "text/x-python",
   "name": "python",
   "nbconvert_exporter": "python",
   "pygments_lexer": "ipython3",
   "version": "3.5.2"
  }
 },
 "nbformat": 4,
 "nbformat_minor": 0
}
