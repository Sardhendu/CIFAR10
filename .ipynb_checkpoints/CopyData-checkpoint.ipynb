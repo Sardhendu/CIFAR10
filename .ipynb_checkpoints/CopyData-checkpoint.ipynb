{
 "cells": [
  {
   "cell_type": "code",
   "execution_count": 1,
   "metadata": {
    "collapsed": true
   },
   "outputs": [],
   "source": [
    "import os, sys, glob\n",
    "import numpy as np\n",
    "import pandas as pd\n",
    "import shutil"
   ]
  },
  {
   "cell_type": "code",
   "execution_count": 7,
   "metadata": {
    "collapsed": false
   },
   "outputs": [
    {
     "name": "stdout",
     "output_type": "stream",
     "text": [
      "   id       label\n",
      "0   1        frog\n",
      "1   2       truck\n",
      "2   3       truck\n",
      "3   4        deer\n",
      "4   5  automobile\n"
     ]
    },
    {
     "data": {
      "text/html": [
       "<div>\n",
       "<table border=\"1\" class=\"dataframe\">\n",
       "  <thead>\n",
       "    <tr style=\"text-align: right;\">\n",
       "      <th></th>\n",
       "      <th>label</th>\n",
       "    </tr>\n",
       "    <tr>\n",
       "      <th>label</th>\n",
       "      <th></th>\n",
       "    </tr>\n",
       "  </thead>\n",
       "  <tbody>\n",
       "    <tr>\n",
       "      <th>airplane</th>\n",
       "      <td>5000</td>\n",
       "    </tr>\n",
       "    <tr>\n",
       "      <th>automobile</th>\n",
       "      <td>5000</td>\n",
       "    </tr>\n",
       "    <tr>\n",
       "      <th>bird</th>\n",
       "      <td>5000</td>\n",
       "    </tr>\n",
       "    <tr>\n",
       "      <th>cat</th>\n",
       "      <td>5000</td>\n",
       "    </tr>\n",
       "    <tr>\n",
       "      <th>deer</th>\n",
       "      <td>5000</td>\n",
       "    </tr>\n",
       "    <tr>\n",
       "      <th>dog</th>\n",
       "      <td>5000</td>\n",
       "    </tr>\n",
       "    <tr>\n",
       "      <th>frog</th>\n",
       "      <td>5000</td>\n",
       "    </tr>\n",
       "    <tr>\n",
       "      <th>horse</th>\n",
       "      <td>5000</td>\n",
       "    </tr>\n",
       "    <tr>\n",
       "      <th>ship</th>\n",
       "      <td>5000</td>\n",
       "    </tr>\n",
       "    <tr>\n",
       "      <th>truck</th>\n",
       "      <td>5000</td>\n",
       "    </tr>\n",
       "  </tbody>\n",
       "</table>\n",
       "</div>"
      ],
      "text/plain": [
       "            label\n",
       "label            \n",
       "airplane     5000\n",
       "automobile   5000\n",
       "bird         5000\n",
       "cat          5000\n",
       "deer         5000\n",
       "dog          5000\n",
       "frog         5000\n",
       "horse        5000\n",
       "ship         5000\n",
       "truck        5000"
      ]
     },
     "execution_count": 7,
     "metadata": {},
     "output_type": "execute_result"
    }
   ],
   "source": [
    "dataPath = '/Users/sam/All-Program/App-DataSet/Kaggle-Challenges/CIFAR-10/trainData/*.png'\n",
    "labelsPath = '/Users/sam/All-Program/App-DataSet/Kaggle-Challenges/CIFAR-10/trainLabels.csv'\n",
    "\n",
    "labels = pd.read_csv(labelsPath, sep=',')\n",
    "\n",
    "# labels_df = pd.DataFrame(labels)\n",
    "print (labels.head())\n",
    "\n",
    "labels.groupby('label').agg({'label':np.size})"
   ]
  },
  {
   "cell_type": "code",
   "execution_count": null,
   "metadata": {
    "collapsed": false
   },
   "outputs": [
    {
     "name": "stdout",
     "output_type": "stream",
     "text": [
      "Done:  \n",
      "Done:  \n",
      "Done:  \n",
      "Done:  \n",
      "Done:  \n",
      "Done:  \n",
      "Done:  \n",
      "Done:  \n"
     ]
    }
   ],
   "source": [
    "# Using only the image from bird\n",
    "bird_datapath = '/Users/sam/All-Program/App-DataSet/Kaggle-Challenges/CIFAR-10/trainDataBird/'\n",
    "dog_datapath = '/Users/sam/All-Program/App-DataSet/Kaggle-Challenges/CIFAR-10/trainDataDog/'\n",
    "cat_datapath = '/Users/sam/All-Program/App-DataSet/Kaggle-Challenges/CIFAR-10/trainDataCat/'\n",
    "horse_datapath = '/Users/sam/All-Program/App-DataSet/Kaggle-Challenges/CIFAR-10/trainDataHorse/'\n",
    "deer_datapath = '/Users/sam/All-Program/App-DataSet/Kaggle-Challenges/CIFAR-10/trainDataDeer/'\n",
    "frog_datapath = '/Users/sam/All-Program/App-DataSet/Kaggle-Challenges/CIFAR-10/trainDataFrog/'\n",
    "truck_datapath = '/Users/sam/All-Program/App-DataSet/Kaggle-Challenges/CIFAR-10/trainDataTruck/'\n",
    "airplane_datapath = '/Users/sam/All-Program/App-DataSet/Kaggle-Challenges/CIFAR-10/trainDataAirplane/'\n",
    "ship_datapath = '/Users/sam/All-Program/App-DataSet/Kaggle-Challenges/CIFAR-10/trainDataShip/'\n",
    "auto_datapath = '/Users/sam/All-Program/App-DataSet/Kaggle-Challenges/CIFAR-10/trainDataAuto/'\n",
    "\n",
    "bird_image_index = np.array(labels_df[labels_df['label'] == 'bird']['id'])\n",
    "dog_image_index = np.array(labels_df[labels_df['label'] == 'dog']['id'])\n",
    "cat_image_index = np.array(labels_df[labels_df['label'] == 'cat']['id'])\n",
    "horse_image_index = np.array(labels_df[labels_df['label'] == 'horse']['id'])\n",
    "deer_image_index = np.array(labels_df[labels_df['label'] == 'deer']['id'])\n",
    "frog_image_index = np.array(labels_df[labels_df['label'] == 'frog']['id'])\n",
    "truck_image_index = np.array(labels_df[labels_df['label'] == 'truck']['id'])\n",
    "airplane_image_index = np.array(labels_df[labels_df['label'] == 'airplane']['id'])\n",
    "ship_image_index = np.array(labels_df[labels_df['label'] == 'ship']['id'])\n",
    "auto_image_index = np.array(labels_df[labels_df['label'] == 'automobile']['id'])\n",
    "\n",
    "label_indices = [bird_image_index,dog_image_index,cat_image_index,horse_image_index,deer_image_index,\n",
    "frog_image_index,truck_image_index,airplane_image_index,ship_image_index,auto_image_index]\n",
    "\n",
    "label_paths = [bird_datapath,dog_datapath,cat_datapath,horse_datapath,deer_datapath,\n",
    "frog_datapath,truck_datapath,airplane_datapath,ship_datapath,auto_datapath]\n",
    "# print (bird_image_index[0:10])\n",
    "\n",
    "for path,indices in zip(label_paths, label_indices):\n",
    "    print ('Done: ', path)\n",
    "    for files in glob.glob(dataPath):\n",
    "        filename = os.path.basename(files).split('.')[0]\n",
    "    #     print (filename)\n",
    "        if int(filename) in indices:\n",
    "            shutil.copy(files, path)"
   ]
  },
  {
   "cell_type": "code",
   "execution_count": null,
   "metadata": {
    "collapsed": true
   },
   "outputs": [],
   "source": []
  }
 ],
 "metadata": {
  "anaconda-cloud": {},
  "kernelspec": {
   "display_name": "Python [Root]",
   "language": "python",
   "name": "Python [Root]"
  },
  "language_info": {
   "codemirror_mode": {
    "name": "ipython",
    "version": 3
   },
   "file_extension": ".py",
   "mimetype": "text/x-python",
   "name": "python",
   "nbconvert_exporter": "python",
   "pygments_lexer": "ipython3",
   "version": "3.5.2"
  }
 },
 "nbformat": 4,
 "nbformat_minor": 0
}
