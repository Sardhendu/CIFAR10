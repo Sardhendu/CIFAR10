{
 "cells": [
  {
   "cell_type": "code",
   "execution_count": 1,
   "metadata": {
    "collapsed": false
   },
   "outputs": [],
   "source": [
    "import numpy as np\n",
    "import os,sys\n",
    "import pickle\n",
    "\n",
    "import Tools\n",
    "\n",
    "from DataGenerator import genTrainValidFolds"
   ]
  },
  {
   "cell_type": "code",
   "execution_count": 2,
   "metadata": {
    "collapsed": false
   },
   "outputs": [
    {
     "ename": "SyntaxError",
     "evalue": "invalid syntax (<ipython-input-2-61bbee519caf>, line 29)",
     "output_type": "error",
     "traceback": [
      "\u001b[0;36m  File \u001b[0;32m\"<ipython-input-2-61bbee519caf>\"\u001b[0;36m, line \u001b[0;32m29\u001b[0m\n\u001b[0;31m    print print ('Running for vrow: ', vrow)\u001b[0m\n\u001b[0m              ^\u001b[0m\n\u001b[0;31mSyntaxError\u001b[0m\u001b[0;31m:\u001b[0m invalid syntax\n"
     ]
    }
   ],
   "source": [
    "class KNN():\n",
    "    def __init__(self):\n",
    "        pass\n",
    "    \n",
    "    def train(self,x, y):\n",
    "        self.trainX = x\n",
    "        self.trainY = y\n",
    "#         print (self.trainY[30870])\n",
    "#         print (self.trainY.shape, self.trainY.dtype)\n",
    "        \n",
    "    def similarity(self, validX, L1=None, L2=None, Cosine=None):\n",
    "        if L1:\n",
    "            distance = np.sum(np.abs(self.trainX - validX), axis = 1)\n",
    "            min_index = np.argmin(distance)\n",
    "            return min_index\n",
    "        if L2:\n",
    "            distance = np.sqrt(np.sum(np.square(self.trainX - validX), axis=1))\n",
    "            min_index = np.argmin(distance)\n",
    "            return min_index\n",
    "    \n",
    "    def predict(self, validX):\n",
    "        num_examples = validX.shape[0]\n",
    "        predY = np.zeros(shape=(num_examples, self.trainY.shape[1]), dtype=self.trainY.dtype)\n",
    "        for vrow in range(num_examples):\n",
    "            min_index = self.similarity(validX[vrow,:], L1='L1')\n",
    "#             print (min_index)\n",
    "            predY[vrow] = self.trainY[int(min_index)]\n",
    "            if (vrow%100==0 and vrow!=0):\n",
    "                print ('Running for vrow: ', vrow)\n",
    "        print (predY.shape)\n",
    "\n",
    "    def main(self):\n",
    "        for trainData, trainLabels, validData, validLabels in genTrainValidFolds():\n",
    "            print ('Validation Data and Labels shape: ', validData.shape, validLabels.shape)\n",
    "            print ('Training Data and Labels shape: ', trainData.shape, trainLabels.shape)\n",
    "            self.train(trainData, trainLabels)\n",
    "            self.predict(validData)\n",
    "            break\n",
    "        \n",
    "KNN().main()"
   ]
  },
  {
   "cell_type": "code",
   "execution_count": 11,
   "metadata": {
    "collapsed": false
   },
   "outputs": [
    {
     "name": "stdout",
     "output_type": "stream",
     "text": [
      "[[0 1 2 3]\n",
      " [1 2 3 4]]\n",
      "[[0 1 2 3]\n",
      " [1 2 3 4]]\n",
      "[ 6 10]\n"
     ]
    }
   ],
   "source": [
    "a = np.array([[1,2,3,4],[2,3,4,5]]) - [1,1,1,1]\n",
    "print (a)\n",
    "print (np.abs(a))\n",
    "print (np.sum(np.abs(a), axis=1))"
   ]
  },
  {
   "cell_type": "code",
   "execution_count": null,
   "metadata": {
    "collapsed": true
   },
   "outputs": [],
   "source": []
  }
 ],
 "metadata": {
  "anaconda-cloud": {},
  "kernelspec": {
   "display_name": "Python [Root]",
   "language": "python",
   "name": "Python [Root]"
  },
  "language_info": {
   "codemirror_mode": {
    "name": "ipython",
    "version": 3
   },
   "file_extension": ".py",
   "mimetype": "text/x-python",
   "name": "python",
   "nbconvert_exporter": "python",
   "pygments_lexer": "ipython3",
   "version": "3.5.2"
  }
 },
 "nbformat": 4,
 "nbformat_minor": 0
}
