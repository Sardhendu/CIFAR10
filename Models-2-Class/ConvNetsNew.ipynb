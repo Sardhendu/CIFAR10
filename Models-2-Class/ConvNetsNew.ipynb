{
 "cells": [
  {
   "cell_type": "code",
   "execution_count": 2,
   "metadata": {
    "collapsed": true
   },
   "outputs": [],
   "source": [
    "from __future__ import absolute_import\n",
    "from __future__ import division\n",
    "from __future__ import print_function\n",
    "\n",
    "import time\n",
    "import os, sys\n",
    "from six.moves import cPickle as pickle\n",
    "from six.moves import range\n",
    "from collections import defaultdict\n",
    "\n",
    "\n",
    "# Model Packages importA\n",
    "import numpy as np\n",
    "import pandas as pd\n",
    "import tensorflow as tf\n",
    "from sklearn.metrics import confusion_matrix\n",
    "\n",
    "from CIFAR_10 import genTrainValidFolds\n",
    "\n",
    "\n",
    "# Packages for plot:\n",
    "import matplotlib\n",
    "from matplotlib import pyplot as plt\n",
    "matplotlib.style.use('ggplot')\n",
    "%matplotlib inline\n",
    "\n",
    "\n",
    "# Get the current working directory\n",
    "# cwd = os.getcwd()\n",
    "# print (cwd)\n",
    "# # mydir = os.path.abspath(os.path.join(cwd, \"..\"))\n",
    "# print (mydir)\n",
    "# sys.path.append(cwd)"
   ]
  },
  {
   "cell_type": "markdown",
   "metadata": {},
   "source": [
    "# Important Functions"
   ]
  },
  {
   "cell_type": "code",
   "execution_count": null,
   "metadata": {},
   "outputs": [],
   "source": [
    "def reset_graph():  # Reset the graph\n",
    "    if 'sess' in globals() and sess:\n",
    "        sess.close()\n",
    "    tf.reset_default_graph()\n",
    "    \n",
    "    \n",
    "def reshape_data(dataset, labels=None, imageSize=32, numChannels=1, sample_size=None):\n",
    "    if sample_size:\n",
    "        dataset = dataset[:sample_size].reshape((-1,imageSize,imageSize,numChannels)) # To reshape the\n",
    "        # Map 0 to [1.0, 0.0, 0.0 ...], 1 to [0.0, 1.0, 0.0 ...]\n",
    "        if labels:\n",
    "            numLabels = len(np.unique(labels))\n",
    "            labels = (np.arange(numLabels) == labels[:,None]).astype(np.float32)\n",
    "    else:\n",
    "        dataset = dataset.reshape((-1,imageSize,imageSize,numChannels)) # To reshape the  \n",
    "        # Map 0 to [1.0, 0.0, 0.0 ...], 1 to [0.0, 1.0, 0.0 ...]\n",
    "        if labels:\n",
    "            numLabels = len(np.unique(labels))\n",
    "            labels = (np.arange(numLabels) == labels[:,None]).astype(np.float32)\n",
    "    return dataset, labels\n",
    "\n",
    "def accuracy(predictions, labels):\n",
    "    # Both the predictions and the labels should be in One-Hot vector format.\n",
    "    return (100.0 * np.sum(np.argmax(predictions, 1) == np.argmax(labels, 1))/ predictions.shape[0])\n",
    "\n",
    "\n",
    "def confusionMatrix(predictions, labels):\n",
    "    # Both the predictions and the labels should be in One-Hot vector format.\n",
    "    return (pd.crosstab(np.argmax(labels, 1), np.argmax(predictions, 1), rownames=['True'], colnames=['Predicted'], margins=True))\n"
   ]
  },
  {
   "cell_type": "markdown",
   "metadata": {},
   "source": [
    "# Linear Activation:"
   ]
  },
  {
   "cell_type": "code",
   "execution_count": 3,
   "metadata": {},
   "outputs": [],
   "source": [
    "# We create chunk of Reusable components:\n",
    "# Here we create a re-usable funtion to add linear networks layers\n",
    "\n",
    "# pass params as {wMean=0.0, wStdev=0.1}\n",
    "def linearActivation(x, numInputs, numOutputs, params, scope=None):\n",
    "    \"\"\"\n",
    "    :param x:          Input Data\n",
    "    :param numInputs:  number of inputs\n",
    "    :param numOutputs: number of outputs\n",
    "    :param params:     parameters for linear function Examples {wMean=0.0, wStdev=0.1, wSeed=6432, bSeed=928}\n",
    "    :param scope:      Scope name (Layer1 or Layer2 depending on what your layer is)\n",
    "    :return:           A computational graph of the processes of the linear activation\n",
    "    \"\"\"\n",
    "    with tf.variable_scope(scope or \"linear\"):\n",
    "        w = tf.get_variable(\n",
    "                dtype='float32',\n",
    "                shape=[numInputs, numOutputs],\n",
    "                initializer=tf.random_normal_initializer(mean=0.0, stddev=0.1),\n",
    "                name='weight')\n",
    "        \n",
    "        b = tf.get_variable(\n",
    "                dtype='float32',\n",
    "                shape=[numOutputs],\n",
    "                initializer=tf.constant_initializer(),\n",
    "                name='bias')\n",
    "        \n",
    "        yPred = tf.matmul(x,w) + b\n",
    "        \n",
    "        return yPred"
   ]
  },
  {
   "cell_type": "code",
   "execution_count": null,
   "metadata": {},
   "outputs": [],
   "source": []
  }
 ],
 "metadata": {
  "kernelspec": {
   "display_name": "Python 2",
   "language": "python",
   "name": "python2"
  },
  "language_info": {
   "codemirror_mode": {
    "name": "ipython",
    "version": 2
   },
   "file_extension": ".py",
   "mimetype": "text/x-python",
   "name": "python",
   "nbconvert_exporter": "python",
   "pygments_lexer": "ipython2",
   "version": "2.7.6"
  }
 },
 "nbformat": 4,
 "nbformat_minor": 0
}
